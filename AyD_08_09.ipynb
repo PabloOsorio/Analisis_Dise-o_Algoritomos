{
  "nbformat": 4,
  "nbformat_minor": 0,
  "metadata": {
    "colab": {
      "provenance": [],
      "authorship_tag": "ABX9TyMcC6ZWWNug7u/1qMP0pbJe",
      "include_colab_link": true
    },
    "kernelspec": {
      "name": "python3",
      "display_name": "Python 3"
    },
    "language_info": {
      "name": "python"
    }
  },
  "cells": [
    {
      "cell_type": "markdown",
      "metadata": {
        "id": "view-in-github",
        "colab_type": "text"
      },
      "source": [
        "<a href=\"https://colab.research.google.com/github/PabloOsorio/Analisis_Dise-o_Algoritomos/blob/main/AyD_08_09.ipynb\" target=\"_parent\"><img src=\"https://colab.research.google.com/assets/colab-badge.svg\" alt=\"Open In Colab\"/></a>"
      ]
    },
    {
      "cell_type": "code",
      "execution_count": null,
      "metadata": {
        "colab": {
          "base_uri": "https://localhost:8080/"
        },
        "id": "ewXtZ8sBDc0l",
        "outputId": "7f3f84a8-0f06-4ffe-c19a-5879474ef554"
      },
      "outputs": [
        {
          "output_type": "stream",
          "name": "stdout",
          "text": [
            "5, 7, \n",
            "5, 7, 312, \n",
            "5, 7, 312, 345, \n"
          ]
        }
      ],
      "source": [
        "class Node:\n",
        "    def __init__(self, data: int) -> None:\n",
        "        self.next = None\n",
        "        self.data = data\n",
        "\n",
        "class LinkedList:\n",
        "    def __init__(self) -> None:\n",
        "        self.head = None\n",
        "        self.tail = None\n",
        "\n",
        "    def print(self) -> str:\n",
        "        if self.head == None:\n",
        "            print('')\n",
        "            pass\n",
        "        n = self.head\n",
        "        value = ''\n",
        "        while n != None:\n",
        "            value += str(n.data) + ', '\n",
        "            n = n.next\n",
        "        print(value)\n",
        "\n",
        "    def insert_at_start(self, data):\n",
        "        node = Node(data)\n",
        "        if self.head == None:\n",
        "            self.head = node\n",
        "            pass\n",
        "        node.next = self.head\n",
        "        self.head = node\n",
        "\n",
        "    def insert_at_end(self, data):\n",
        "        node = Node(data)\n",
        "        if self.head == None:\n",
        "            self.head = node\n",
        "            pass\n",
        "        aux = self.head\n",
        "        while aux.next: #Mientras sea true\n",
        "                aux = aux.next\n",
        "        aux.next = node\n",
        "\n",
        "\n",
        "if __name__ == \"__main__\":\n",
        "    node_one = Node(7)\n",
        "    list = LinkedList()\n",
        "\n",
        "    list.head = node_one\n",
        "    list.insert_at_start(5)\n",
        "    list.print()\n",
        "    list.insert_at_end(312)\n",
        "    list.print()\n",
        "    list.insert_at_end(345)\n",
        "    list.print()"
      ]
    },
    {
      "cell_type": "code",
      "source": [
        "from pickle import TRUE\n",
        "class Node:\n",
        "    def __init__(self, data:int) -> None:\n",
        "        self.next = None\n",
        "        self.data = data\n",
        "\n",
        "class Stack:\n",
        "    def __init__(self):\n",
        "        self.top = None\n",
        "        self.tamaño = 0\n",
        "    def push(self,data):\n",
        "        node = Node(data)\n",
        "        node.next = self.top\n",
        "        self.top = node\n",
        "        self.tamaño +=1 \n",
        "\n",
        "    def pop(self):\n",
        "        if self.isEmpty==True:\n",
        "            print(\"Stack vacio no se puede devolver nada\")\n",
        "            return\n",
        "        back = self.top.data\n",
        "        self.top = self.top.next\n",
        "        self.tamaño -=1\n",
        "        return back\n",
        "\n",
        "    def peek(self):\n",
        "        if (self.isEmpty):\n",
        "            print(\"Stack vacio no se puede devolver nada\")\n",
        "            return None\n",
        "        else:\n",
        "            return self.top.data\n",
        "\n",
        "    def isEmpty(self):\n",
        "        if self.top == None:\n",
        "            return print(\"Sin elementos\")\n",
        "        else:\n",
        "            print(\"Ya hay elementos\")\n",
        "\n",
        "    def tamanio(self):\n",
        "        return self.tamaño\n",
        "\n",
        "    def print(self) -> str:\n",
        "        if self.top == None:\n",
        "            print('')\n",
        "            pass\n",
        "        n = self.top\n",
        "        value = ''\n",
        "        while n != None:\n",
        "            value += str(n.data) + ', '\n",
        "            n = n.next\n",
        "        print(value)\n",
        "\n",
        "pila = Stack()\n",
        "#pila.isEmpty()\n",
        "pila.push(10)\n",
        "pila.push(20)\n",
        "pila.push(30)\n",
        "pila.push(40)\n",
        "pila.print()\n",
        "print(\"tamaño\", pila.tamanio())\n",
        "print(\"Segunda prueba\")\n",
        "pila.isEmpty()\n",
        "print(\"Tercera prueba\")\n",
        "print(pila.peek())\n",
        "print(\"Cuarta prueba\")\n",
        "pila.pop()\n",
        "pila.pop()\n",
        "pila.pop()\n",
        "pila.pop()\n",
        "pila.isEmpty()\n",
        "pila.peek()\n"
      ],
      "metadata": {
        "colab": {
          "base_uri": "https://localhost:8080/"
        },
        "id": "8W0RdqU2F_GP",
        "outputId": "1753c355-0dbf-4003-a6d5-473f59c8fb35"
      },
      "execution_count": 56,
      "outputs": [
        {
          "output_type": "stream",
          "name": "stdout",
          "text": [
            "40, 30, 20, 10, \n",
            "tamaño 4\n",
            "Segunda prueba\n",
            "Ya hay elementos\n",
            "Tercera prueba\n",
            "Stack vacio no se puede devolver nada\n",
            "None\n",
            "Cuarta prueba\n",
            "Sin elementos\n",
            "Stack vacio no se puede devolver nada\n"
          ]
        }
      ]
    },
    {
      "cell_type": "code",
      "source": [
        "class Node:\n",
        "    def __init__(self,data:int):\n",
        "        self.data = data\n",
        "        self.next = None\n",
        "class Queue:\n",
        "    def __init__(self):\n",
        "        self.head = None\n",
        "        self.size = 0\n",
        "        self.tail = None\n",
        "\n",
        "    def length(self):\n",
        "        return self.size\n",
        "\n",
        "    def isEmpty(self):\n",
        "        if (self.head == None):\n",
        "            return \"Sin elementos\"\n",
        "        else:\n",
        "            print(\"Ya hay elementos\")\n",
        "\n",
        "    def enqueue(self, data):\n",
        "        node = Node(data)\n",
        "        self.size +=1\n",
        "        if (self.isEmpty):\n",
        "            self.head = node\n",
        "            self.tail = node\n",
        "            return\n",
        "        self.tail.next = node\n",
        "        self.tail = node\n",
        "\n",
        "    def dequeue(self):\n",
        "        if (self.isEmpty):\n",
        "            return None\n",
        "        back = self.head.data\n",
        "        self.head = self.head.next\n",
        "        self.size += 1\n",
        "        if (self.isEmpty):\n",
        "            print(\"no hay mas elementos\")\n",
        "        else: \n",
        "            self.tail = None\n",
        "            print(\"Se tuvo que borrar tail\")\n",
        "    \n",
        "\n",
        "Q1=Queue()\n",
        "print(Q1.length())\n",
        "Q1.isEmpty()\n",
        "Q1.enqueue(100)\n",
        "Q1.enqueue(80)\n",
        "Q1.enqueue(60)\n",
        "Q1.enqueue(40)\n",
        "Q1.enqueue(20)\n",
        "Q1.enqueue(10)\n",
        "Q1.length()"
      ],
      "metadata": {
        "colab": {
          "base_uri": "https://localhost:8080/"
        },
        "id": "wDdQ_2MCUli6",
        "outputId": "7f904e60-b712-475f-eb52-359609023bf4"
      },
      "execution_count": 95,
      "outputs": [
        {
          "output_type": "stream",
          "name": "stdout",
          "text": [
            "0\n"
          ]
        },
        {
          "output_type": "execute_result",
          "data": {
            "text/plain": [
              "6"
            ]
          },
          "metadata": {},
          "execution_count": 95
        }
      ]
    }
  ]
}